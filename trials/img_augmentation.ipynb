{
 "cells": [
  {
   "cell_type": "code",
   "execution_count": 2,
   "metadata": {},
   "outputs": [],
   "source": [
    "import os\n",
    "import cv2\n",
    "import numpy as np\n",
    "import preproc\n",
    "from skimage.util import random_noise\n",
    "%matplotlib inline  \n",
    "import matplotlib.pyplot as plt"
   ]
  },
  {
   "cell_type": "code",
   "execution_count": 3,
   "metadata": {},
   "outputs": [],
   "source": [
    "face_classifier = cv2.CascadeClassifier(\n",
    "    cv2.data.haarcascades + \"haarcascade_frontalface_default.xml\"\n",
    ")\n"
   ]
  },
  {
   "cell_type": "code",
   "execution_count": 21,
   "metadata": {},
   "outputs": [],
   "source": [
    "def augment_images(path=None, output_path=None, resize=(250, 250)):        \n",
    "\n",
    "    if path is None:\n",
    "        path = os.path.join(os.getcwd(), 'images')\n",
    "    \n",
    "    if output_path is None:\n",
    "        output_path = os.path.join(os.getcwd(), 'augmented_images')\n",
    "        \n",
    "    os.makedirs(output_path, exist_ok=True)\n",
    "    \n",
    "    images = []\n",
    "    students = []\n",
    "\n",
    "    for student in os.listdir(path):\n",
    "        student_path = os.path.join(path, student)                \n",
    "        \n",
    "        if os.path.isdir(student_path):   \n",
    "            os.makedirs(os.path.join(output_path, student), exist_ok=True)         \n",
    "        \n",
    "            for image_name in os.listdir(student_path):\n",
    "                image_path = os.path.join(student_path, image_name)\n",
    "        \n",
    "                if os.path.isfile(image_path):\n",
    "                    image = cv2.imread(image_path)\n",
    "                    gray_image = cv2.cvtColor(image, cv2.COLOR_BGR2GRAY)\n",
    "                    \n",
    "                    faces = face_classifier.detectMultiScale(gray_image, scaleFactor=1.1, minNeighbors=5, minSize=(40, 40))\n",
    "                    \n",
    "                    if len(faces) == 0:\n",
    "                        print(image_path)\n",
    "                        continue\n",
    "\n",
    "                    (x, y, w, h) = faces[0]\n",
    "                    face_roi = gray_image[y:y+h, x:x+w]\n",
    "\n",
    "                    # for i in range(5):                        \n",
    "                    #     img = random_noise(face_roi, mode='s&p', amount=0.05)                                                \n",
    "                        \n",
    "                    #     output_image_path = os.path.join(output_path, student,  f'aug-{i}-{image_name}')\n",
    "                    #     cv2.imwrite(output_image_path, np.array(255 * img, dtype=np.uint8))\n",
    "                        \n",
    "                    #     img = preproc.preprocess_images([img])[0]                                              \n",
    "\n",
    "                    #     images.append(img)\n",
    "                    #     students.append(student)\n",
    "                    \n",
    "                    for i in range(5):                        \n",
    "                        img = random_noise(face_roi, mode='localvar')                                                \n",
    "                        \n",
    "                        output_image_path = os.path.join(output_path, student,  f'local-aug-{i}-{image_name}')\n",
    "                        cv2.imwrite(output_image_path, np.array(255 * img, dtype=np.uint8))\n",
    "                        \n",
    "                        img = preproc.preprocess_images([img])[0]                                              \n",
    "\n",
    "                        images.append(img)\n",
    "                        students.append(student)\n",
    "\n",
    "                    # for i in range(5):                        \n",
    "                    #     img = random_noise(face_roi, mode='pepper', amount=0.05)                                                \n",
    "                        \n",
    "                    #     output_image_path = os.path.join(output_path, student,  f'pepper-aug-{i}-{image_name}')\n",
    "                    #     cv2.imwrite(output_image_path, np.array(255 * img, dtype=np.uint8))\n",
    "                        \n",
    "                    #     img = preproc.preprocess_images([img])[0]                                              \n",
    "\n",
    "                    #     images.append(img)\n",
    "                    #     students.append(student)\n",
    "\n",
    "                    # for i in range(5):                        \n",
    "                    #     img = random_noise(face_roi, mode='speckle' )\n",
    "                        \n",
    "                    #     output_image_path = os.path.join(output_path, student,  f'speckle-aug-{i}-{image_name}')\n",
    "                    #     cv2.imwrite(output_image_path, np.array(255 * img, dtype=np.uint8))\n",
    "                        \n",
    "                    #     img = preproc.preprocess_images([img])[0]                                              \n",
    "\n",
    "                    #     images.append(img)\n",
    "                    #     students.append(student)\n",
    "                                        \n",
    "                    \n",
    "                    img = preproc.preprocess_images([face_roi])[0]                      \n",
    "\n",
    "                    images.append(img)\n",
    "                    students.append(student)\n",
    "\n",
    "                    output_image_path = os.path.join(output_path, student, image_name)\n",
    "                    cv2.imwrite(output_image_path, face_roi)\n",
    "\n",
    "    return np.array(images), np.array(students)                                                             "
   ]
  },
  {
   "cell_type": "code",
   "execution_count": 22,
   "metadata": {},
   "outputs": [
    {
     "name": "stdout",
     "output_type": "stream",
     "text": [
      "e:\\4th-year\\Semester-1\\Mathematics-for-AI\\Assignments\\Project-FaceRecognition\\images\\Abraham Wendmeneh\\8.jpg\n"
     ]
    },
    {
     "ename": "KeyboardInterrupt",
     "evalue": "",
     "output_type": "error",
     "traceback": [
      "\u001b[1;31m---------------------------------------------------------------------------\u001b[0m",
      "\u001b[1;31mKeyboardInterrupt\u001b[0m                         Traceback (most recent call last)",
      "Cell \u001b[1;32mIn[22], line 1\u001b[0m\n\u001b[1;32m----> 1\u001b[0m \u001b[43maugment_images\u001b[49m\u001b[43m(\u001b[49m\u001b[43moutput_path\u001b[49m\u001b[38;5;241;43m=\u001b[39;49m\u001b[43mos\u001b[49m\u001b[38;5;241;43m.\u001b[39;49m\u001b[43mpath\u001b[49m\u001b[38;5;241;43m.\u001b[39;49m\u001b[43mjoin\u001b[49m\u001b[43m(\u001b[49m\u001b[43mos\u001b[49m\u001b[38;5;241;43m.\u001b[39;49m\u001b[43mgetcwd\u001b[49m\u001b[43m(\u001b[49m\u001b[43m)\u001b[49m\u001b[43m,\u001b[49m\u001b[43m \u001b[49m\u001b[38;5;124;43m'\u001b[39;49m\u001b[38;5;124;43maugmented_images_1\u001b[39;49m\u001b[38;5;124;43m'\u001b[39;49m\u001b[43m)\u001b[49m\u001b[43m)\u001b[49m\n",
      "Cell \u001b[1;32mIn[21], line 27\u001b[0m, in \u001b[0;36maugment_images\u001b[1;34m(path, output_path, resize)\u001b[0m\n\u001b[0;32m     24\u001b[0m image \u001b[38;5;241m=\u001b[39m cv2\u001b[38;5;241m.\u001b[39mimread(image_path)\n\u001b[0;32m     25\u001b[0m gray_image \u001b[38;5;241m=\u001b[39m cv2\u001b[38;5;241m.\u001b[39mcvtColor(image, cv2\u001b[38;5;241m.\u001b[39mCOLOR_BGR2GRAY)\n\u001b[1;32m---> 27\u001b[0m faces \u001b[38;5;241m=\u001b[39m \u001b[43mface_classifier\u001b[49m\u001b[38;5;241;43m.\u001b[39;49m\u001b[43mdetectMultiScale\u001b[49m\u001b[43m(\u001b[49m\u001b[43mgray_image\u001b[49m\u001b[43m,\u001b[49m\u001b[43m \u001b[49m\u001b[43mscaleFactor\u001b[49m\u001b[38;5;241;43m=\u001b[39;49m\u001b[38;5;241;43m1.1\u001b[39;49m\u001b[43m,\u001b[49m\u001b[43m \u001b[49m\u001b[43mminNeighbors\u001b[49m\u001b[38;5;241;43m=\u001b[39;49m\u001b[38;5;241;43m5\u001b[39;49m\u001b[43m,\u001b[49m\u001b[43m \u001b[49m\u001b[43mminSize\u001b[49m\u001b[38;5;241;43m=\u001b[39;49m\u001b[43m(\u001b[49m\u001b[38;5;241;43m40\u001b[39;49m\u001b[43m,\u001b[49m\u001b[43m \u001b[49m\u001b[38;5;241;43m40\u001b[39;49m\u001b[43m)\u001b[49m\u001b[43m)\u001b[49m\n\u001b[0;32m     29\u001b[0m \u001b[38;5;28;01mif\u001b[39;00m \u001b[38;5;28mlen\u001b[39m(faces) \u001b[38;5;241m==\u001b[39m \u001b[38;5;241m0\u001b[39m:\n\u001b[0;32m     30\u001b[0m     \u001b[38;5;28mprint\u001b[39m(image_path)\n",
      "\u001b[1;31mKeyboardInterrupt\u001b[0m: "
     ]
    }
   ],
   "source": [
    "augment_images(output_path=os.path.join(os.getcwd(), 'augmented_images_1'))"
   ]
  },
  {
   "cell_type": "code",
   "execution_count": null,
   "metadata": {},
   "outputs": [],
   "source": []
  },
  {
   "cell_type": "code",
   "execution_count": null,
   "metadata": {},
   "outputs": [],
   "source": []
  }
 ],
 "metadata": {
  "kernelspec": {
   "display_name": "venv",
   "language": "python",
   "name": "python3"
  },
  "language_info": {
   "codemirror_mode": {
    "name": "ipython",
    "version": 3
   },
   "file_extension": ".py",
   "mimetype": "text/x-python",
   "name": "python",
   "nbconvert_exporter": "python",
   "pygments_lexer": "ipython3",
   "version": "3.10.6"
  }
 },
 "nbformat": 4,
 "nbformat_minor": 2
}
