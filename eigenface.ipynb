{
 "cells": [
  {
   "cell_type": "code",
   "execution_count": 1,
   "metadata": {},
   "outputs": [],
   "source": [
    "%matplotlib inline\n",
    "\n",
    "import matplotlib.pyplot as plt\n",
    "import numpy as np\n",
    "from PIL import Image\n",
    "import os\n",
    "import cv2\n",
    "\n",
    "from sklearn.model_selection import train_test_split\n",
    "from sklearn.metrics import accuracy_score\n",
    "\n",
    "from eigenface import EigenFaces\n",
    "from img_preprocessing import preprocess_images\n",
    "\n",
    "\n",
    "import pickle"
   ]
  },
  {
   "cell_type": "code",
   "execution_count": 2,
   "metadata": {},
   "outputs": [],
   "source": [
    "def load_images(path=None, resize=(500, 500)):\n",
    "    if path is None:\n",
    "        path = os.path.join(os.getcwd(), 'images')\n",
    "\n",
    "    images = []\n",
    "    students = []\n",
    "\n",
    "    for student in os.listdir(path):\n",
    "        student_path = os.path.join(path, student)\n",
    "        \n",
    "        if os.path.isdir(student_path):\n",
    "        \n",
    "            for image in os.listdir(student_path):\n",
    "                image_path = os.path.join(student_path, image)\n",
    "        \n",
    "                if os.path.isfile(image_path):\n",
    "                    image = Image.open(image_path)\n",
    "                    image = image.convert('L')\n",
    "                    \n",
    "                    if image.size != resize:\n",
    "                        image = image.resize(resize)\n",
    "                    \n",
    "                    image_vector = np.array(image, dtype=np.float64).flatten()                    \n",
    "                        \n",
    "                    images.append(image_vector)\n",
    "                    students.append(student)\n",
    "    \n",
    "    return np.array(images), np.array(students)"
   ]
  },
  {
   "cell_type": "code",
   "execution_count": 3,
   "metadata": {},
   "outputs": [],
   "source": [
    "def crop_images(face_classifier, path=None, output_path=None, resize=(250, 250)):        \n",
    "\n",
    "    if path is None:\n",
    "        path = os.path.join(os.getcwd(), 'images')\n",
    "    \n",
    "    if output_path is None:\n",
    "        output_path = os.path.join(os.getcwd(), 'preprocessed_images')\n",
    "\n",
    "        \n",
    "    os.makedirs(output_path, exist_ok=True)\n",
    "\n",
    "    \n",
    "    images = []\n",
    "    students = []\n",
    "\n",
    "    for student in os.listdir(path):\n",
    "        student_path = os.path.join(path, student)                \n",
    "        \n",
    "        if os.path.isdir(student_path):   \n",
    "            os.makedirs(os.path.join(output_path, student), exist_ok=True)         \n",
    "        \n",
    "            for image_name in os.listdir(student_path):\n",
    "                image_path = os.path.join(student_path, image_name)\n",
    "        \n",
    "                if os.path.isfile(image_path):\n",
    "                    image = cv2.imread(image_path)\n",
    "                    gray_image = cv2.cvtColor(image, cv2.COLOR_BGR2GRAY)\n",
    "                    \n",
    "                    faces = face_classifier.detectMultiScale(gray_image, scaleFactor=1.1, minNeighbors=5, minSize=(40, 40))\n",
    "                    \n",
    "                    if len(faces) == 0:                        \n",
    "                        continue\n",
    "\n",
    "                    (x, y, w, h) = faces[0]\n",
    "                    face_roi = gray_image[y:y+h, x:x+w]\n",
    "                    \n",
    "                    img = preprocess_images([face_roi], resize=resize)[0]                      \n",
    "\n",
    "                    images.append(img)\n",
    "                    students.append(student)\n",
    "\n",
    "                    output_image_path = os.path.join(output_path, student, image_name)\n",
    "                    cv2.imwrite(output_image_path, img.reshape(resize) * 255)\n",
    "\n",
    "    return np.array(images), np.array(students)                                                             "
   ]
  },
  {
   "cell_type": "code",
   "execution_count": 4,
   "metadata": {},
   "outputs": [],
   "source": [
    "face_detector = cv2.CascadeClassifier(\n",
    "    cv2.data.haarcascades + \"haarcascade_frontalface_default.xml\"\n",
    ")\n",
    "\n",
    "images, students = crop_images(face_detector)"
   ]
  },
  {
   "cell_type": "code",
   "execution_count": 5,
   "metadata": {},
   "outputs": [],
   "source": [
    "# images, students = load_images('preprocessed_images', resize=(250, 250))"
   ]
  },
  {
   "cell_type": "code",
   "execution_count": 6,
   "metadata": {},
   "outputs": [],
   "source": [
    "x_train, x_test, y_train, y_test = train_test_split(images, students, test_size=0.2, random_state=42, stratify=students)"
   ]
  },
  {
   "cell_type": "code",
   "execution_count": 7,
   "metadata": {},
   "outputs": [],
   "source": [
    "eigenface_model = EigenFaces(num_components=100).fit(x_train, y_train)"
   ]
  },
  {
   "cell_type": "code",
   "execution_count": 8,
   "metadata": {},
   "outputs": [],
   "source": [
    "with open('models/eigenface_recognizer.pkl', 'wb') as f:\n",
    "    pickle.dump(eigenface_model, f)"
   ]
  },
  {
   "cell_type": "code",
   "execution_count": 9,
   "metadata": {},
   "outputs": [],
   "source": [
    "y_pred = eigenface_model.predict(x_test)"
   ]
  },
  {
   "cell_type": "code",
   "execution_count": 10,
   "metadata": {},
   "outputs": [],
   "source": [
    "accuracy = accuracy_score(y_test, y_pred)"
   ]
  },
  {
   "cell_type": "code",
   "execution_count": 11,
   "metadata": {},
   "outputs": [
    {
     "data": {
      "text/plain": [
       "0.9905660377358491"
      ]
     },
     "execution_count": 11,
     "metadata": {},
     "output_type": "execute_result"
    }
   ],
   "source": [
    "accuracy"
   ]
  },
  {
   "cell_type": "code",
   "execution_count": null,
   "metadata": {},
   "outputs": [],
   "source": []
  },
  {
   "cell_type": "code",
   "execution_count": 12,
   "metadata": {},
   "outputs": [],
   "source": [
    "y_t_p = eigenface_model.predict(x_train)\n"
   ]
  },
  {
   "cell_type": "code",
   "execution_count": 13,
   "metadata": {},
   "outputs": [
    {
     "data": {
      "text/plain": [
       "1.0"
      ]
     },
     "execution_count": 13,
     "metadata": {},
     "output_type": "execute_result"
    }
   ],
   "source": [
    "accuracy_score(y_train, y_t_p)"
   ]
  },
  {
   "cell_type": "code",
   "execution_count": 14,
   "metadata": {},
   "outputs": [
    {
     "data": {
      "text/plain": [
       "array([0.99843964, 0.99843964, 0.99843964, ..., 0.77248974, 0.77197589,\n",
       "       0.77197589])"
      ]
     },
     "execution_count": 14,
     "metadata": {},
     "output_type": "execute_result"
    }
   ],
   "source": [
    "x_test[0]"
   ]
  },
  {
   "cell_type": "code",
   "execution_count": null,
   "metadata": {},
   "outputs": [],
   "source": []
  }
 ],
 "metadata": {
  "kernelspec": {
   "display_name": "venv",
   "language": "python",
   "name": "python3"
  },
  "language_info": {
   "codemirror_mode": {
    "name": "ipython",
    "version": 3
   },
   "file_extension": ".py",
   "mimetype": "text/x-python",
   "name": "python",
   "nbconvert_exporter": "python",
   "pygments_lexer": "ipython3",
   "version": "3.10.6"
  }
 },
 "nbformat": 4,
 "nbformat_minor": 2
}
