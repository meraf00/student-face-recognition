{
 "cells": [
  {
   "cell_type": "code",
   "execution_count": 7,
   "metadata": {},
   "outputs": [],
   "source": [
    "import os\n",
    "import cv2\n",
    "import numpy as np\n",
    "import dlib\n",
    "from imutils.face_utils import FaceAligner\n",
    "from imutils.face_utils import rect_to_bb\n",
    "from img_preprocessing import preprocess_images\n",
    "from skimage.util import random_noise\n",
    "\n",
    "%matplotlib inline\n",
    "\n",
    "import matplotlib.pyplot as plt\n",
    "import numpy as np\n",
    "from PIL import Image\n",
    "import os\n",
    "import cv2\n",
    "\n",
    "from sklearn.model_selection import train_test_split\n",
    "from sklearn.metrics import accuracy_score\n",
    "\n",
    "from eigenface import EigenFaces\n",
    "from img_preprocessing import preprocess_images\n",
    "\n",
    "\n",
    "import pickle"
   ]
  },
  {
   "cell_type": "code",
   "execution_count": 3,
   "metadata": {},
   "outputs": [],
   "source": [
    "face_classifier = cv2.CascadeClassifier(\n",
    "    cv2.data.haarcascades + \"haarcascade_frontalface_default.xml\"\n",
    ")\n",
    "\n",
    "\n",
    "predictor = dlib.shape_predictor(\"trials/shape_predictor_68_face_landmarks.dat\")\n",
    "fa = FaceAligner(predictor, desiredFaceWidth=250, desiredFaceHeight=250)\n"
   ]
  },
  {
   "cell_type": "code",
   "execution_count": 4,
   "metadata": {},
   "outputs": [],
   "source": [
    "def align_images(path=None, output_path=None, resize=(250, 250)):        \n",
    "\n",
    "    if path is None:\n",
    "        path = os.path.join(os.getcwd(), 'images')\n",
    "    \n",
    "    if output_path is None:\n",
    "        output_path = os.path.join(os.getcwd(), 'aligned_images')\n",
    "\n",
    "        \n",
    "    os.makedirs(output_path, exist_ok=True)\n",
    "\n",
    "    \n",
    "    images = []\n",
    "    students = []\n",
    "\n",
    "    for student in os.listdir(path):\n",
    "        student_path = os.path.join(path, student)                \n",
    "        \n",
    "        if os.path.isdir(student_path):   \n",
    "            os.makedirs(os.path.join(output_path, student), exist_ok=True)         \n",
    "        \n",
    "            for image_name in os.listdir(student_path):\n",
    "                image_path = os.path.join(student_path, image_name)\n",
    "        \n",
    "                if os.path.isfile(image_path):\n",
    "                    image = cv2.imread(image_path)\n",
    "                    gray_image = cv2.cvtColor(image, cv2.COLOR_BGR2GRAY)\n",
    "                    \n",
    "                    faces = face_classifier.detectMultiScale(\n",
    "                        gray_image, scaleFactor=1.1, minNeighbors=5, minSize=(40, 40)\n",
    "                    )\n",
    "                    \n",
    "                    if len(faces) == 0:\n",
    "                        print(image_path)\n",
    "                        continue\n",
    "                    \n",
    "                    x, y, w, h = faces[0]\n",
    "\n",
    "                    # face = cv2.resize(gray_image[y : y + h, x : x + w], (250, 250))\n",
    "\n",
    "                    faceAligned = fa.align(image, gray_image, dlib.rectangle(x, y, x + h, y + w))\n",
    "\n",
    "                    faceAligned = cv2.cvtColor(faceAligned, cv2.COLOR_BGR2GRAY)\n",
    "\n",
    "                    img = preprocess_images([faceAligned])[0]               \n",
    "\n",
    "                    images.append(img)\n",
    "                    students.append(student)\n",
    "\n",
    "                    output_image_path = os.path.join(output_path, student, image_name)\n",
    "                    cv2.imwrite(output_image_path, img.reshape((250, 250)) * 255)\n",
    "\n",
    "    return np.array(images), np.array(students)                                                             "
   ]
  },
  {
   "cell_type": "code",
   "execution_count": 5,
   "metadata": {},
   "outputs": [
    {
     "name": "stdout",
     "output_type": "stream",
     "text": [
      "e:\\4th-year\\Semester-1\\Mathematics-for-AI\\Assignments\\Project-FaceRecognition\\images\\Abraham Wendmeneh\\8.jpg\n",
      "e:\\4th-year\\Semester-1\\Mathematics-for-AI\\Assignments\\Project-FaceRecognition\\images\\Biniyam Haile\\3.jpg\n"
     ]
    }
   ],
   "source": [
    "images, students = align_images()\n"
   ]
  },
  {
   "cell_type": "code",
   "execution_count": 8,
   "metadata": {},
   "outputs": [],
   "source": [
    "x_train, x_test, y_train, y_test = train_test_split(images, students, test_size=0.2, random_state=42, stratify=students)"
   ]
  },
  {
   "cell_type": "code",
   "execution_count": 9,
   "metadata": {},
   "outputs": [],
   "source": [
    "eigenface_model = EigenFaces(num_components=100).fit(x_train, y_train)"
   ]
  },
  {
   "cell_type": "code",
   "execution_count": 10,
   "metadata": {},
   "outputs": [],
   "source": [
    "with open('models/eigenface_recognizer_aligned.pkl', 'wb') as f:\n",
    "    pickle.dump(eigenface_model, f)"
   ]
  },
  {
   "cell_type": "code",
   "execution_count": 11,
   "metadata": {},
   "outputs": [],
   "source": [
    "y_pred = eigenface_model.predict(x_test)"
   ]
  },
  {
   "cell_type": "code",
   "execution_count": 12,
   "metadata": {},
   "outputs": [],
   "source": [
    "accuracy = accuracy_score(y_test, y_pred)"
   ]
  },
  {
   "cell_type": "code",
   "execution_count": 13,
   "metadata": {},
   "outputs": [
    {
     "data": {
      "text/plain": [
       "0.9811320754716981"
      ]
     },
     "execution_count": 13,
     "metadata": {},
     "output_type": "execute_result"
    }
   ],
   "source": [
    "accuracy"
   ]
  },
  {
   "cell_type": "code",
   "execution_count": null,
   "metadata": {},
   "outputs": [],
   "source": []
  }
 ],
 "metadata": {
  "kernelspec": {
   "display_name": "venv",
   "language": "python",
   "name": "python3"
  },
  "language_info": {
   "codemirror_mode": {
    "name": "ipython",
    "version": 3
   },
   "file_extension": ".py",
   "mimetype": "text/x-python",
   "name": "python",
   "nbconvert_exporter": "python",
   "pygments_lexer": "ipython3",
   "version": "3.10.6"
  }
 },
 "nbformat": 4,
 "nbformat_minor": 2
}
